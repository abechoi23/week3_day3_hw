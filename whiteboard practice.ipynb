{
 "cells": [
  {
   "cell_type": "code",
   "execution_count": 1,
   "id": "26b2a596",
   "metadata": {},
   "outputs": [],
   "source": [
    "# Create a function that given a list which represents street lights given as a parameter(l_street), determine if an outage has occurred. A street with a total number of “F” greater than or equal to 2 returns “Outage”, anything below returns “Power”\n",
    "# Example Input: [ ‘T’, ‘F’, ‘F’, ‘F’ ]\n",
    "# Example Output: “Outage”"
   ]
  },
  {
   "cell_type": "code",
   "execution_count": 37,
   "id": "6c931157",
   "metadata": {},
   "outputs": [
    {
     "name": "stdout",
     "output_type": "stream",
     "text": [
      "Outage\n"
     ]
    }
   ],
   "source": [
    "def power(l_street):\n",
    "        if l_street.count('F') >= 2:\n",
    "            return('Outage')\n",
    "        else:\n",
    "            return('Power')\n",
    "\n",
    "\n",
    "my_list = ['T', 'F', 'F', 'F']\n",
    "\n",
    "result = power(my_list)\n",
    "print(result)"
   ]
  },
  {
   "cell_type": "code",
   "execution_count": 36,
   "id": "2c1354d0",
   "metadata": {},
   "outputs": [
    {
     "name": "stdout",
     "output_type": "stream",
     "text": [
      "Power\n"
     ]
    }
   ],
   "source": [
    "def power(l_street):\n",
    "    return 'Outage' if l_street.count('F') >= 2 else 'Power'\n",
    "\n",
    "my_list = ['T', 'T', 'T', 'F']\n",
    "\n",
    "result = power(my_list)\n",
    "print(result)"
   ]
  },
  {
   "cell_type": "code",
   "execution_count": 35,
   "id": "51ea61e6",
   "metadata": {},
   "outputs": [
    {
     "name": "stdout",
     "output_type": "stream",
     "text": [
      "Power\n"
     ]
    }
   ],
   "source": [
    "def power(l_street):\n",
    "    num_outages = 0\n",
    "    for light in l_street:\n",
    "        if light == 'F':\n",
    "            num_outages += 1\n",
    "    if num_outages >= 2:\n",
    "        return 'Outage'\n",
    "    else:\n",
    "        return 'Power'\n",
    "    \n",
    "my_list = ['T', 'T', 'T', 'F']    \n",
    "\n",
    "result = power(my_list)\n",
    "print(result)"
   ]
  },
  {
   "cell_type": "code",
   "execution_count": 34,
   "id": "160f2a9f",
   "metadata": {},
   "outputs": [
    {
     "name": "stdout",
     "output_type": "stream",
     "text": [
      "Outage\n"
     ]
    }
   ],
   "source": [
    "def power(l_street):\n",
    "    return 'Outage' if sum(light == 'F' for light in l_street) >= 2 else 'Power'\n",
    "\n",
    "my_list = ['T', 'F', 'F', 'F']\n",
    "\n",
    "result = power(my_list)\n",
    "print(result)"
   ]
  }
 ],
 "metadata": {
  "kernelspec": {
   "display_name": "Python 3 (ipykernel)",
   "language": "python",
   "name": "python3"
  },
  "language_info": {
   "codemirror_mode": {
    "name": "ipython",
    "version": 3
   },
   "file_extension": ".py",
   "mimetype": "text/x-python",
   "name": "python",
   "nbconvert_exporter": "python",
   "pygments_lexer": "ipython3",
   "version": "3.9.13"
  }
 },
 "nbformat": 4,
 "nbformat_minor": 5
}
