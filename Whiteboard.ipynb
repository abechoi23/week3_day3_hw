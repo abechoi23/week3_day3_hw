{
 "cells": [
  {
   "cell_type": "code",
   "execution_count": 3,
   "id": "b29687a0",
   "metadata": {},
   "outputs": [
    {
     "ename": "SyntaxError",
     "evalue": "invalid syntax (3675111059.py, line 1)",
     "output_type": "error",
     "traceback": [
      "\u001b[1;36m  File \u001b[1;32m\"C:\\Users\\abech\\AppData\\Local\\Temp\\ipykernel_22284\\3675111059.py\"\u001b[1;36m, line \u001b[1;32m1\u001b[0m\n\u001b[1;33m    The Hamming Distance is a measure of similarity between two strings of equal length. Complete the function so that it returns the number of positions where the input strings do not match.\u001b[0m\n\u001b[1;37m        ^\u001b[0m\n\u001b[1;31mSyntaxError\u001b[0m\u001b[1;31m:\u001b[0m invalid syntax\n"
     ]
    }
   ],
   "source": [
    "The Hamming Distance is a measure of similarity between two strings of equal length. Complete the function so that it returns the number of positions where the input strings do not match.\n",
    "Examples:\n",
    "a = \"I like turtles\"\n",
    "b = \"I like turkeys\"\n",
    "Result: 3\n",
    "\n",
    "a = \"Hello World\"\n",
    "b = \"Hello World\"\n",
    "Result: 0\n",
    "\n",
    "a = \"espresso\"\n",
    "b = \"Expresso\"\n",
    "Result: 2\n",
    "You can assume that the two input strings are of equal length"
   ]
  },
  {
   "cell_type": "code",
   "execution_count": 4,
   "id": "341df037",
   "metadata": {},
   "outputs": [],
   "source": [
    "def num_of_not_same(string1, string2):\n",
    "    not_same = 0\n",
    "    for i in range(len(string1)):\n",
    "        if string2[i] != string1[i]:\n",
    "            not_same += 1\n",
    "        else:\n",
    "            continue\n",
    "    return not_same"
   ]
  },
  {
   "cell_type": "code",
   "execution_count": null,
   "id": "080b3b1c",
   "metadata": {},
   "outputs": [],
   "source": []
  }
 ],
 "metadata": {
  "kernelspec": {
   "display_name": "Python 3 (ipykernel)",
   "language": "python",
   "name": "python3"
  },
  "language_info": {
   "codemirror_mode": {
    "name": "ipython",
    "version": 3
   },
   "file_extension": ".py",
   "mimetype": "text/x-python",
   "name": "python",
   "nbconvert_exporter": "python",
   "pygments_lexer": "ipython3",
   "version": "3.9.13"
  }
 },
 "nbformat": 4,
 "nbformat_minor": 5
}
