{
 "cells": [
  {
   "cell_type": "markdown",
   "metadata": {},
   "source": [
    "# APIs\n"
   ]
  },
  {
   "cell_type": "markdown",
   "metadata": {},
   "source": [
    "## Tasks Today:\n",
    "1) <b>Requests and the pokemon API </b> <br>\n",
    " "
   ]
  },
  {
   "cell_type": "markdown",
   "metadata": {},
   "source": [
    "# working with APis"
   ]
  },
  {
   "cell_type": "markdown",
   "metadata": {},
   "source": [
    "<p> What exactly is an API? <br> <br>\n",
    "API is the acronym for Application Programming Interface, which is a software intermediary that allows two applications to talk to each other. Each time you use an app like Facebook, send an instant message, or check the weather on your phone, you're using an API. </p>"
   ]
  },
  {
   "cell_type": "markdown",
   "metadata": {},
   "source": [
    "### The Poke API  allows you to retreive a pokemon's information from PokeAPI https://pokeapi.co/\n",
    "\n"
   ]
  },
  {
   "cell_type": "code",
   "execution_count": 58,
   "metadata": {},
   "outputs": [
    {
     "name": "stdout",
     "output_type": "stream",
     "text": [
      "Enter a pokemon: pikachu\n",
      "success\n"
     ]
    }
   ],
   "source": [
    "# making an API call\n",
    "import requests\n",
    "\n",
    "pokemon = input('Enter a pokemon: ')\n",
    "\n",
    "url = f'https://pokeapi.co/api/v2/pokemon/{pokemon}/'\n",
    "\n",
    "response = requests.get(url)\n",
    "\n",
    "if response.status_code == 200:\n",
    "    print('success')\n",
    "    data = response.json()\n",
    "else:\n",
    "    print(f'ERROR, STATUS CODE {response.status_code}')"
   ]
  },
  {
   "cell_type": "code",
   "execution_count": 59,
   "metadata": {},
   "outputs": [
    {
     "name": "stdout",
     "output_type": "stream",
     "text": [
      "pikachu\n"
     ]
    }
   ],
   "source": [
    "print(data['name'])"
   ]
  },
  {
   "cell_type": "markdown",
   "metadata": {},
   "source": [
    "### Display a Pokemon's name, weight, abilities, and types"
   ]
  },
  {
   "cell_type": "code",
   "execution_count": 64,
   "metadata": {},
   "outputs": [
    {
     "name": "stdout",
     "output_type": "stream",
     "text": [
      "pikachu\n"
     ]
    }
   ],
   "source": [
    "# get the name\n",
    "name = data['name']\n",
    "print(name)"
   ]
  },
  {
   "cell_type": "code",
   "execution_count": 67,
   "metadata": {},
   "outputs": [
    {
     "name": "stdout",
     "output_type": "stream",
     "text": [
      "electric\n"
     ]
    }
   ],
   "source": [
    "# get types\n",
    "types = data['types']\n",
    "type = types[0]['type']['name']\n",
    "\n",
    "print(type)"
   ]
  },
  {
   "cell_type": "code",
   "execution_count": 72,
   "metadata": {},
   "outputs": [],
   "source": [
    "# get types\n",
    "types = data['types']\n",
    "\n",
    "types = list(map(lambda x: x['type']['name'], types))"
   ]
  },
  {
   "cell_type": "code",
   "execution_count": 73,
   "metadata": {},
   "outputs": [
    {
     "data": {
      "text/plain": [
       "['electric']"
      ]
     },
     "execution_count": 73,
     "metadata": {},
     "output_type": "execute_result"
    }
   ],
   "source": [
    "types"
   ]
  },
  {
   "cell_type": "code",
   "execution_count": 66,
   "metadata": {},
   "outputs": [
    {
     "name": "stdout",
     "output_type": "stream",
     "text": [
      "60\n"
     ]
    }
   ],
   "source": [
    "# get weight\n",
    "weight = data['weight']\n",
    "print(weight)"
   ]
  },
  {
   "cell_type": "code",
   "execution_count": 69,
   "metadata": {},
   "outputs": [
    {
     "name": "stdout",
     "output_type": "stream",
     "text": [
      "static\n",
      "lightning-rod\n"
     ]
    }
   ],
   "source": [
    "# get abilities\n",
    "abilities = data['abilities']\n",
    "\n",
    "ability1 = abilities[0]['ability']['name']\n",
    "ability2 = abilities[1]['ability']['name']\n",
    "\n",
    "print(ability1)\n",
    "print(ability2)"
   ]
  },
  {
   "cell_type": "code",
   "execution_count": 75,
   "metadata": {},
   "outputs": [],
   "source": [
    "abilities = data['abilities']\n",
    "\n",
    "abilities = list(map(lambda x: x['ability']['name'], abilities))"
   ]
  },
  {
   "cell_type": "code",
   "execution_count": 76,
   "metadata": {},
   "outputs": [
    {
     "data": {
      "text/plain": [
       "['static', 'lightning-rod']"
      ]
     },
     "execution_count": 76,
     "metadata": {},
     "output_type": "execute_result"
    }
   ],
   "source": [
    "abilities"
   ]
  },
  {
   "cell_type": "code",
   "execution_count": 77,
   "metadata": {},
   "outputs": [],
   "source": [
    "# Create a structure for a single pokemon\n",
    "\n",
    "class Pokemon():\n",
    "    def __init__(self, name, types, weight, abilities):\n",
    "        self.name = name\n",
    "        self.types = types\n",
    "        self.weight = weight\n",
    "        self.abilities = abilities\n",
    "        \n",
    "        "
   ]
  },
  {
   "cell_type": "code",
   "execution_count": 79,
   "metadata": {},
   "outputs": [],
   "source": [
    "my_pokemon = Pokemon(name, types, weight, abilities)"
   ]
  },
  {
   "cell_type": "code",
   "execution_count": 81,
   "metadata": {},
   "outputs": [
    {
     "data": {
      "text/plain": [
       "['static', 'lightning-rod']"
      ]
     },
     "execution_count": 81,
     "metadata": {},
     "output_type": "execute_result"
    }
   ],
   "source": [
    "my_pokemon.abilities"
   ]
  },
  {
   "cell_type": "code",
   "execution_count": 88,
   "metadata": {},
   "outputs": [
    {
     "name": "stdout",
     "output_type": "stream",
     "text": [
      "pikachu is a ['electric'] type with ['static', 'lightning-rod']\n"
     ]
    }
   ],
   "source": [
    "print(f'{my_pokemon.name} is a {my_pokemon.types} type with {my_pokemon.abilities}')"
   ]
  },
  {
   "cell_type": "markdown",
   "metadata": {},
   "source": [
    "#### Create a function to Pull in your own Pokemon's data "
   ]
  },
  {
   "cell_type": "code",
   "execution_count": 91,
   "metadata": {},
   "outputs": [],
   "source": [
    "def poke_api_call(pokemon):\n",
    "# use the pokemon parametere to make a request to the pokeapi\n",
    "# if the status code is 200:\n",
    "# Get the pokemon's data with the json method\n",
    "# Pull out the name, weight, types, abilities\n",
    "# create an instance of the pokemon class\n",
    "# return the instance of the class\n",
    "# if the status code is not 200, print an error message\n",
    "    pass"
   ]
  },
  {
   "cell_type": "code",
   "execution_count": 443,
   "metadata": {},
   "outputs": [],
   "source": [
    "class Pokemon():\n",
    "    def __init__(self, name, types, weight, abilities):\n",
    "        self.name = name\n",
    "        self.types = types\n",
    "        self.weight_value = weight\n",
    "        self.abilities = abilities\n",
    "        \n",
    "    def poke_api_call(self):\n",
    "        pokemon = input('Enter a Pokemon: ')\n",
    "        url = f'https://pokeapi.co/api/v2/pokemon/{pokemon}/'\n",
    "        response = requests.get(url)\n",
    "    \n",
    "        if response.status_code == 200:\n",
    "            print('Success')\n",
    "            data = response.json()\n",
    "        \n",
    "        else:\n",
    "            print(f'ERROR, STATUS CODE {response.status_code}')\n",
    "            \n",
    "        user_selection = input('Please type the selection: Name, Weight, Types, or Abilities. ').lower()\n",
    "        if user_selection == 'name':\n",
    "            my_pokemon.names()\n",
    "        elif user_selection == 'weight':\n",
    "            self.weight()\n",
    "        elif user_selection == 'types':\n",
    "            my_pokemon.types()\n",
    "        elif user_selection == 'abilities':\n",
    "            my_pokemon.abilities()\n",
    "            return\n",
    "        else:\n",
    "            print('Please enter a valid selection: Name, Weight, Types, or Abilities. ').lower()\n",
    "        \n",
    "    def names(self):\n",
    "        name = data['name']\n",
    "        print(f'Pokemon\\'s name is {name.title()}')\n",
    "    \n",
    "    \n",
    "    def types(self):\n",
    "        types = data['types']\n",
    "        types = list(map(lambda x: x['type']['name'], types))\n",
    "        print(f'Pokemon\\'s type is {types}')\n",
    "    \n",
    "    def weight(self):\n",
    "        weight = data['weight']\n",
    "        print(f'{name.title()} weighs {weight}lbs.')\n",
    "    \n",
    "    def abilities(self):\n",
    "        abilities = data['abilities']\n",
    "        abilities = list(map(lambda x: x['ability']['name'], abilities))\n",
    "        print(f'{name.title()} has {abilities} abilities')\n",
    "    \n",
    "   \n",
    "        \n",
    "my_pokemon = Pokemon(name, types, weight, abilities)"
   ]
  },
  {
   "cell_type": "code",
   "execution_count": 444,
   "metadata": {},
   "outputs": [
    {
     "name": "stdout",
     "output_type": "stream",
     "text": [
      "Enter a Pokemon: squirtle\n",
      "Success\n",
      "Please type the selection: Name, Weight, Types, or Abilities. weight\n",
      "Pikachu weighs 60lbs.\n"
     ]
    }
   ],
   "source": [
    "my_pokemon.poke_api_call()"
   ]
  },
  {
   "cell_type": "code",
   "execution_count": 388,
   "metadata": {},
   "outputs": [],
   "source": [
    "class Pokemon():\n",
    "    def __init__(self, name, types, weight, abilities):\n",
    "        self.name = name\n",
    "        self.types = types\n",
    "        self.weight = weight\n",
    "        self.abilities = abilities\n",
    "\n",
    "def poke_api_call():\n",
    "    pokemon = input('Enter a Pokemon: ')\n",
    "    url = f'https://pokeapi.co/api/v2/pokemon/{pokemon}/'\n",
    "    response = requests.get(url)\n",
    "    \n",
    "    if response.status_code == 200:\n",
    "        print('Success')\n",
    "        data = response.json()\n",
    "        \n",
    "    else:\n",
    "        print(f'ERROR, STATUS CODE {response.status_code}')\n",
    "    \n",
    "    name = data['name']\n",
    "    print(f'Pokemon\\'s name is {name.title()}')\n",
    "    types = data['types']\n",
    "    types = list(map(lambda x: x['type']['name'], types))\n",
    "    print(f'Pokemon\\'s type is {types}')\n",
    "    weight = data['weight']\n",
    "    print(f'{name.title()} weighs {weight}lbs.')\n",
    "    abilities = data['abilities']\n",
    "    abilities = list(map(lambda x: x['ability']['name'], abilities))\n",
    "    print(f'{name.title()} has {abilities} abilities')"
   ]
  },
  {
   "cell_type": "code",
   "execution_count": 389,
   "metadata": {},
   "outputs": [
    {
     "name": "stdout",
     "output_type": "stream",
     "text": [
      "Enter a Pokemon: charizard\n",
      "Success\n",
      "Pokemon's name is Charizard\n",
      "Pokemon's type is ['fire', 'flying']\n",
      "Charizard weighs 905lbs.\n",
      "Charizard has ['blaze', 'solar-power'] abilities\n"
     ]
    }
   ],
   "source": [
    "poke_api_call()"
   ]
  },
  {
   "cell_type": "code",
   "execution_count": 314,
   "metadata": {},
   "outputs": [],
   "source": [
    "def poke_api_call(pokemon):\n",
    "    # Use the pokemon parameter to make a request to the pokeapi\n",
    "    response = requests.get(f'https://pokeapi.co/api/v2/pokemon/{pokemon}/')\n",
    "    \n",
    "    # if the status code is 200:\n",
    "    if response.status_code == 200:\n",
    "        print('SUCCESS')\n",
    "        # Get the pokemon's data with the json method\n",
    "        data = response.json()\n",
    "        # Pull out the name, weight, types, abilities\n",
    "        name = data['name']\n",
    "        \n",
    "        types = data['types']\n",
    "        types = list(map(lambda x: x['type']['name'], types))\n",
    "        \n",
    "        weight = data['weight']\n",
    "        \n",
    "        abilities = data['abilities']\n",
    "        abilities = list(map(lambda x: x['ability']['name'], abilities))\n",
    "        # Create an instance of the Pokemon class\n",
    "        pokemon = Pokemon(name, types, weight, abilities)\n",
    "        # Return the instance of the class\n",
    "        return pokemon\n",
    "    # if the status code is not 200, print an error message\n",
    "    else:\n",
    "        print(f'ERROR, STATUS CODE {response.status_code}')"
   ]
  },
  {
   "cell_type": "code",
   "execution_count": 316,
   "metadata": {},
   "outputs": [
    {
     "name": "stdout",
     "output_type": "stream",
     "text": [
      "SUCCESS\n"
     ]
    }
   ],
   "source": [
    "poki = poke_api_call('pikachu')"
   ]
  },
  {
   "cell_type": "code",
   "execution_count": 294,
   "metadata": {},
   "outputs": [
    {
     "data": {
      "text/plain": [
       "['fire']"
      ]
     },
     "execution_count": 294,
     "metadata": {},
     "output_type": "execute_result"
    }
   ],
   "source": [
    "poki.types"
   ]
  },
  {
   "cell_type": "markdown",
   "metadata": {},
   "source": [
    "Choose your pokemon"
   ]
  },
  {
   "cell_type": "code",
   "execution_count": 327,
   "metadata": {},
   "outputs": [],
   "source": [
    "from random import randint\n",
    "# Random number generated for each pokemon id\n",
    "random_team = [randint(1,898) for i in range(6)]\n",
    "\n",
    "your_team = ['electabuzz', 'haunter','tyranitar','blaziken','marowak','dragonair']\n",
    "\n"
   ]
  },
  {
   "cell_type": "code",
   "execution_count": 330,
   "metadata": {},
   "outputs": [
    {
     "name": "stdout",
     "output_type": "stream",
     "text": [
      "SUCCESS\n",
      "SUCCESS\n",
      "SUCCESS\n",
      "SUCCESS\n",
      "SUCCESS\n",
      "SUCCESS\n"
     ]
    }
   ],
   "source": [
    "random_team = list(map(poke_api_call, random_team))"
   ]
  },
  {
   "cell_type": "code",
   "execution_count": 331,
   "metadata": {},
   "outputs": [
    {
     "name": "stdout",
     "output_type": "stream",
     "text": [
      "flapple\n",
      "chespin\n",
      "scrafty\n",
      "toxtricity-amped\n",
      "heatmor\n",
      "whiscash\n"
     ]
    }
   ],
   "source": [
    "for team_member in random_team:\n",
    "    print(team_member.name)"
   ]
  },
  {
   "cell_type": "code",
   "execution_count": 306,
   "metadata": {},
   "outputs": [
    {
     "data": {
      "text/plain": [
       "'carbink'"
      ]
     },
     "execution_count": 306,
     "metadata": {},
     "output_type": "execute_result"
    }
   ],
   "source": [
    "random_team_pokemon[0].name"
   ]
  },
  {
   "cell_type": "code",
   "execution_count": 251,
   "metadata": {},
   "outputs": [
    {
     "name": "stdout",
     "output_type": "stream",
     "text": [
      "electabuzz\n",
      "['electric']\n",
      "300\n",
      "['static', 'vital-spirit']\n",
      "haunter\n",
      "['ghost', 'poison']\n",
      "1\n",
      "['levitate']\n",
      "tyranitar\n",
      "['rock', 'dark']\n",
      "2020\n",
      "['sand-stream', 'unnerve']\n"
     ]
    }
   ],
   "source": [
    "print(random_team[0].name)\n",
    "print(random_team[0].types)\n",
    "print(random_team[0].weight)\n",
    "print(random_team[0].abilities)\n",
    "\n",
    "print(random_team[1].name)\n",
    "print(random_team[1].types)\n",
    "print(random_team[1].weight)\n",
    "print(random_team[1].abilities)\n",
    "\n",
    "print(random_team[2].name)\n",
    "print(random_team[2].types)\n",
    "print(random_team[2].weight)\n",
    "print(random_team[2].abilities)"
   ]
  },
  {
   "cell_type": "code",
   "execution_count": 333,
   "metadata": {},
   "outputs": [
    {
     "name": "stdout",
     "output_type": "stream",
     "text": [
      "SUCCESS\n",
      "SUCCESS\n",
      "SUCCESS\n",
      "SUCCESS\n",
      "SUCCESS\n",
      "SUCCESS\n"
     ]
    }
   ],
   "source": [
    "your_team = list(map(poke_api_call, your_team))"
   ]
  },
  {
   "cell_type": "code",
   "execution_count": 334,
   "metadata": {},
   "outputs": [
    {
     "name": "stdout",
     "output_type": "stream",
     "text": [
      "electabuzz\n",
      "haunter\n",
      "tyranitar\n",
      "blaziken\n",
      "marowak\n",
      "dragonair\n"
     ]
    }
   ],
   "source": [
    "for team_member in your_team:\n",
    "    print(team_member.name)"
   ]
  },
  {
   "cell_type": "markdown",
   "metadata": {},
   "source": [
    "#### Use your function to create a dictionary of your Johto League 6  (favorite 6 pokemon)"
   ]
  },
  {
   "cell_type": "code",
   "execution_count": 336,
   "metadata": {},
   "outputs": [
    {
     "name": "stdout",
     "output_type": "stream",
     "text": [
      "{'electabuzz': <__main__.Pokemon object at 0x000001B76ACDE2B0>, 'haunter': <__main__.Pokemon object at 0x000001B7691A5CD0>, 'tyranitar': <__main__.Pokemon object at 0x000001B76ACDED60>, 'blaziken': <__main__.Pokemon object at 0x000001B76ACDE1C0>, 'marowak': <__main__.Pokemon object at 0x000001B76A1045E0>, 'dragonair': <__main__.Pokemon object at 0x000001B76ACDE2E0>}\n"
     ]
    }
   ],
   "source": [
    "# Place all 6 of your pokemon on the object below, each pokemon should have at least as much info as Pikachu did.\n",
    "my_six_pokemon = {}\n",
    "\n",
    "for team_member in your_team:\n",
    "    my_six_pokemon[team_member.name] = team_member\n",
    "    \n",
    "print(my_six_pokemon)"
   ]
  },
  {
   "cell_type": "code",
   "execution_count": 338,
   "metadata": {},
   "outputs": [
    {
     "data": {
      "text/plain": [
       "['shed-skin', 'marvel-scale']"
      ]
     },
     "execution_count": 338,
     "metadata": {},
     "output_type": "execute_result"
    }
   ],
   "source": [
    "team_member.abilities"
   ]
  },
  {
   "cell_type": "markdown",
   "metadata": {},
   "source": [
    "## Lets create a class called 'Pokemon' and create our pokemon as instances"
   ]
  },
  {
   "cell_type": "code",
   "execution_count": 358,
   "metadata": {},
   "outputs": [],
   "source": [
    "# Create a structure for a single pokemon\n",
    "class Pokemon():\n",
    "    def __init__(self, name):\n",
    "        self.name = name\n",
    "        self.types = None\n",
    "        self.weight = None\n",
    "        self.abilities = None\n",
    "        self.sprites = None\n",
    "        self.poke_api_call()\n",
    "    \n",
    "    def poke_api_call(self):\n",
    "        # Use the pokemon parameter to make a request to the pokeapi\n",
    "        response = requests.get(f'https://pokeapi.co/api/v2/pokemon/{self.name}/')\n",
    "    \n",
    "        # if the status code is 200:\n",
    "        if response.status_code == 200:\n",
    "            print('SUCCESS')\n",
    "            # Get the pokemon's data with the json method\n",
    "            data = response.json()\n",
    "            # Pull out the name, weight, types, abilities\n",
    "            self.name = data['name']\n",
    "        \n",
    "            types = data['types']\n",
    "            self.types = list(map(lambda x: x['type']['name'], types))\n",
    "        \n",
    "            self.weight = data['weight']\n",
    "        \n",
    "            abilities = data['abilities']\n",
    "            self.abilities = list(map(lambda x: x['ability']['name'], abilities))\n",
    "            \n",
    "            self.sprites = data['sprites']['front_default'] #image\n",
    "            \n",
    "        # if the status code is not 200, print an error message\n",
    "        else:\n",
    "            print(f'ERROR, STATUS CODE {response.status_code}')"
   ]
  },
  {
   "cell_type": "code",
   "execution_count": 360,
   "metadata": {},
   "outputs": [
    {
     "name": "stdout",
     "output_type": "stream",
     "text": [
      "SUCCESS\n"
     ]
    }
   ],
   "source": [
    "pikachu = Pokemon('pikachu')"
   ]
  },
  {
   "cell_type": "code",
   "execution_count": 370,
   "metadata": {},
   "outputs": [
    {
     "data": {
      "text/plain": [
       "'https://raw.githubusercontent.com/PokeAPI/sprites/master/sprites/pokemon/25.png'"
      ]
     },
     "execution_count": 370,
     "metadata": {},
     "output_type": "execute_result"
    }
   ],
   "source": [
    "pikachu.sprites"
   ]
  },
  {
   "cell_type": "markdown",
   "metadata": {},
   "source": [
    "### Let's Catch some Pokemon"
   ]
  },
  {
   "cell_type": "code",
   "execution_count": 378,
   "metadata": {},
   "outputs": [],
   "source": [
    "class Pokedex:\n",
    "    def __init__(self):\n",
    "        self.pokemon = {}\n",
    "        \n",
    "    def add_pokemon(self,name):\n",
    "        new_pokemon = Pokemon(name)\n",
    "        self.pokemon[new_pokemon.name] = new_pokemon"
   ]
  },
  {
   "cell_type": "code",
   "execution_count": 380,
   "metadata": {},
   "outputs": [],
   "source": [
    "my_pokedex = Pokedex()"
   ]
  },
  {
   "cell_type": "code",
   "execution_count": 381,
   "metadata": {},
   "outputs": [
    {
     "name": "stdout",
     "output_type": "stream",
     "text": [
      "SUCCESS\n"
     ]
    }
   ],
   "source": [
    "my_pokedex.add_pokemon('pikachu')"
   ]
  },
  {
   "cell_type": "code",
   "execution_count": 382,
   "metadata": {},
   "outputs": [
    {
     "name": "stdout",
     "output_type": "stream",
     "text": [
      "SUCCESS\n"
     ]
    }
   ],
   "source": [
    "my_pokedex.add_pokemon(10)"
   ]
  },
  {
   "cell_type": "code",
   "execution_count": 383,
   "metadata": {},
   "outputs": [
    {
     "data": {
      "text/plain": [
       "{'pikachu': <__main__.Pokemon at 0x1b76c0a38b0>,\n",
       " 'caterpie': <__main__.Pokemon at 0x1b76c090ca0>}"
      ]
     },
     "execution_count": 383,
     "metadata": {},
     "output_type": "execute_result"
    }
   ],
   "source": [
    "my_pokedex.pokemon"
   ]
  },
  {
   "cell_type": "code",
   "execution_count": null,
   "metadata": {},
   "outputs": [],
   "source": []
  },
  {
   "cell_type": "code",
   "execution_count": 14,
   "metadata": {},
   "outputs": [],
   "source": [
    "pokedex = {}\n"
   ]
  },
  {
   "cell_type": "markdown",
   "metadata": {},
   "source": [
    "## Exercise 1:"
   ]
  },
  {
   "cell_type": "markdown",
   "metadata": {},
   "source": [
    "### Create a Method prints an image of your pokemon\n",
    "\n",
    "<p>HINT: You may need another attribute as well to store your image url within. </p>"
   ]
  },
  {
   "cell_type": "code",
   "execution_count": 387,
   "metadata": {},
   "outputs": [
    {
     "data": {
      "image/png": "[encoded data removed]",
      "text/plain": [
       "<IPython.core.display.Image object>"
      ]
     },
     "metadata": {},
     "output_type": "display_data"
    }
   ],
   "source": [
    "# Display an image in Jupyter notebook\n",
    "from IPython.display import Image\n",
    "\n",
    "# display(Image( 'https://i.redd.it/45n4mhusa8l41.jpg', width = 300))\n",
    "\n",
    "display(Image(pikachu.sprites))"
   ]
  },
  {
   "cell_type": "code",
   "execution_count": 396,
   "metadata": {},
   "outputs": [],
   "source": [
    "# recreate your pokemon class here\n",
    "class Pokemon():\n",
    "    def __init__(self, name):\n",
    "        self.name = name\n",
    "        self.types = None\n",
    "        self.weight = None\n",
    "        self.abilities = None\n",
    "        self.sprites = None\n",
    "        self.poke_api_call()\n",
    "    \n",
    "    def poke_api_call(self):\n",
    "        # Use the pokemon parameter to make a request to the pokeapi\n",
    "        response = requests.get(f'https://pokeapi.co/api/v2/pokemon/{self.name}/')\n",
    "    \n",
    "        # if the status code is 200:\n",
    "        if response.status_code == 200:\n",
    "            print('SUCCESS')\n",
    "            # Get the pokemon's data with the json method\n",
    "            data = response.json()\n",
    "            # Pull out the name, weight, types, abilities\n",
    "            self.name = data['name']\n",
    "        \n",
    "            types = data['types']\n",
    "            self.types = list(map(lambda x: x['type']['name'], types))\n",
    "        \n",
    "            self.weight = data['weight']\n",
    "        \n",
    "            abilities = data['abilities']\n",
    "            self.abilities = list(map(lambda x: x['ability']['name'], abilities))\n",
    "            \n",
    "            self.sprites = data['sprites']['versions']['generation-v']['black-white']['animated']['front_shiny'] #image\n",
    "            \n",
    "        # if the status code is not 200, print an error message\n",
    "        else:\n",
    "            print(f'ERROR, STATUS CODE {response.status_code}')"
   ]
  },
  {
   "cell_type": "code",
   "execution_count": 397,
   "metadata": {},
   "outputs": [
    {
     "name": "stdout",
     "output_type": "stream",
     "text": [
      "SUCCESS\n"
     ]
    }
   ],
   "source": [
    "pikachu = Pokemon('pikachu')"
   ]
  },
  {
   "cell_type": "code",
   "execution_count": 398,
   "metadata": {},
   "outputs": [
    {
     "data": {
      "image/gif": "[encoded data removed]",
      "text/plain": [
       "<IPython.core.display.Image object>"
      ]
     },
     "metadata": {},
     "output_type": "display_data"
    }
   ],
   "source": [
    "# Calling our new method\n",
    "display(Image(pikachu.sprites))"
   ]
  },
  {
   "cell_type": "markdown",
   "metadata": {},
   "source": [
    "## Exercise 2:"
   ]
  },
  {
   "cell_type": "markdown",
   "metadata": {},
   "source": [
    "### Create a Method that evolves your Pokemon\n",
    "If your pokemon can't evolve any further print a message that says \"\\<name of pokemon> can't evolve.\""
   ]
  },
  {
   "cell_type": "code",
   "execution_count": 544,
   "metadata": {},
   "outputs": [
    {
     "name": "stdout",
     "output_type": "stream",
     "text": [
      "Enter a Pokemon: wartortle\n",
      "Success\n",
      "Please type the selection (Name, Weight, Types, Abilities, or Evolve): name\n",
      "Pokemon's name is Wartortle\n"
     ]
    },
    {
     "data": {
      "image/png": "[encoded data removed]",
      "text/plain": [
       "<IPython.core.display.Image object>"
      ]
     },
     "metadata": {},
     "output_type": "display_data"
    },
    {
     "name": "stdout",
     "output_type": "stream",
     "text": [
      "Please type the selection (Name, Weight, Types, Abilities, or Evolve): weight\n",
      "Wartortle weighs 225lbs.\n",
      "Please type the selection (Name, Weight, Types, Abilities, or Evolve): types\n",
      "Pokemon's type is water\n",
      "Please type the selection (Name, Weight, Types, Abilities, or Evolve): abilities\n",
      "Wartortle has torrent and rain-dish abilities\n",
      "Please type the selection (Name, Weight, Types, Abilities, or Evolve): evolve\n",
      "Wartortle evolves into blastoise\n"
     ]
    }
   ],
   "source": [
    "class Pokemon():\n",
    "    def __init__(self, name, types, weight, abilities, sprites, evolution_chain):\n",
    "        self.show_name = name\n",
    "        self.show_types = types\n",
    "        self.show_weight = weight\n",
    "        self.show_abilities = abilities\n",
    "        self.show_sprites = sprites\n",
    "        self.show_evolution_chain = evolution_chain\n",
    "        self.poke_api_call()\n",
    "        self.run()\n",
    "        \n",
    "        \n",
    "    def poke_api_call(self):\n",
    "        pokemon = input('Enter a Pokemon: ')\n",
    "        url = f'https://pokeapi.co/api/v2/pokemon/{pokemon}/'\n",
    "        response = requests.get(url)\n",
    "    \n",
    "        if response.status_code == 200:\n",
    "            print('Success')\n",
    "            data = response.json()\n",
    "            \n",
    "            evolution_url = data['species']['url']\n",
    "            evolution_response = requests.get(evolution_url)\n",
    "            evolution_data = evolution_response.json()\n",
    "\n",
    "            evolution_chain_url = evolution_data['evolution_chain']['url']\n",
    "            evolution_chain_response = requests.get(evolution_chain_url)\n",
    "            evolution_chain = evolution_chain_response.json()\n",
    "            self.evolution_chain = evolution_chain\n",
    "            \n",
    "            self.name = data['name']\n",
    "            types = data['types']\n",
    "            self.types = list(map(lambda x: x['type']['name'], types))\n",
    "            self.weight = data['weight']\n",
    "            abilities = data['abilities']\n",
    "            self.abilities = list(map(lambda x: x['ability']['name'], abilities))\n",
    "            self.sprites = data['sprites']['front_default']\n",
    "        \n",
    "        else:\n",
    "            print(f'ERROR, STATUS CODE {response.status_code}')\n",
    "            \n",
    "\n",
    "    def run(self):\n",
    "        while True:\n",
    "            user_selection = input('Please type the selection (Name, Weight, Types, Abilities, or Evolve): ').lower()\n",
    "            if user_selection == 'name':\n",
    "                print(f'Pokemon\\'s name is {self.name.title()}')\n",
    "                display(Image(self.sprites))\n",
    "            elif user_selection == 'weight':\n",
    "                print(f'{self.name.title()} weighs {self.weight}lbs.')\n",
    "            elif user_selection == 'types':\n",
    "                print(f\"Pokemon\\'s type is {''.join(self.types)}\")\n",
    "            elif user_selection == 'abilities':\n",
    "                print(f\"{self.name.title()} has {' and '.join(self.abilities)} abilities\")\n",
    "            elif user_selection == 'evolve':\n",
    "                evolves_to = self.evolution_chain['chain']['evolves_to']\n",
    "                next_evolution = None\n",
    "                for evolution in evolves_to:\n",
    "                     if evolution['species']['name'] == self.name:\n",
    "                        if len(evolution['evolves_to']) > 0:\n",
    "                            next_evolution = evolution['evolves_to'][0]['species']['name']\n",
    "                            break\n",
    "                if next_evolution:\n",
    "                    print(f'{self.name.title()} evolves into {next_evolution}')\n",
    "                else:\n",
    "                    print(f'{self.name.title()} has no further evolutions')\n",
    "                return\n",
    "            else:\n",
    "                print('Please enter a valid selection (Name, Weight, Types, Abilities, or Evolve): ').lower()\n",
    "        \n",
    "        \n",
    "my_pokemon = Pokemon('','','','','','')\n"
   ]
  },
  {
   "cell_type": "markdown",
   "metadata": {},
   "source": [
    "Now let's evolve a few"
   ]
  },
  {
   "cell_type": "code",
   "execution_count": null,
   "metadata": {
    "scrolled": true
   },
   "outputs": [],
   "source": []
  },
  {
   "cell_type": "code",
   "execution_count": null,
   "metadata": {},
   "outputs": [],
   "source": []
  },
  {
   "cell_type": "code",
   "execution_count": 525,
   "metadata": {},
   "outputs": [],
   "source": [
    "def evolve_pokemon():\n",
    "    pokemon = input('Enter a Pokemon: ')\n",
    "    url = f'https://pokeapi.co/api/v2/pokemon/{pokemon}/'\n",
    "    response = requests.get(url)\n",
    "\n",
    "    if response.status_code == 200:\n",
    "        data = response.json()\n",
    "        evolution_url = data['species']['url']\n",
    "        evolution_response = requests.get(evolution_url)\n",
    "        evolution_data = evolution_response.json()\n",
    "\n",
    "        evolution_chain_url = evolution_data['evolution_chain']['url']\n",
    "        evolution_chain_response = requests.get(evolution_chain_url)\n",
    "        evolution_chain = evolution_chain_response.json()\n",
    "\n",
    "        evolves_to = evolution_chain['chain']['evolves_to']\n",
    "        next_evolution = None\n",
    "        for evolution in evolves_to:\n",
    "            if evolution['species']['name'] == pokemon:\n",
    "                if len(evolution['evolves_to']) > 0:\n",
    "                    next_evolution = evolution['evolves_to'][0]['species']['name']\n",
    "                    break\n",
    "\n",
    "        if next_evolution:\n",
    "            print(f'{pokemon.title()} evolves into {next_evolution}')\n",
    "        else:\n",
    "            print(f\"{pokemon.title()} can't evolve.\")\n",
    "    else:\n",
    "        print('Error')\n",
    "\n"
   ]
  },
  {
   "cell_type": "code",
   "execution_count": 530,
   "metadata": {},
   "outputs": [
    {
     "name": "stdout",
     "output_type": "stream",
     "text": [
      "Enter a Pokemon: wartortle\n",
      "Wartortle evolves into blastoise\n"
     ]
    }
   ],
   "source": [
    "evolve_pokemon()"
   ]
  },
  {
   "cell_type": "markdown",
   "metadata": {},
   "source": [
    "#  Final Exercise: <br> <br>Create a Move_Tutor Class that will allow the Pokemon Class to inherit a move list.\n",
    "<br>\n",
    "<p>for an added bonus you can make sure that if a pokemon has 4 moves the user can choose one of them to replace with a new move. </p>"
   ]
  },
  {
   "cell_type": "code",
   "execution_count": 19,
   "metadata": {},
   "outputs": [],
   "source": [
    "class Move_Tutor:\n",
    "    def __init__(self):\n",
    "        self.move_list = []"
   ]
  },
  {
   "cell_type": "code",
   "execution_count": null,
   "metadata": {},
   "outputs": [],
   "source": []
  },
  {
   "cell_type": "code",
   "execution_count": 81,
   "metadata": {},
   "outputs": [
    {
     "name": "stdout",
     "output_type": "stream",
     "text": [
      "What move would you like to teach pikachu? spark\n",
      "pikachu learned spark!\n"
     ]
    }
   ],
   "source": [
    "pikachu.teach_move()\n"
   ]
  },
  {
   "cell_type": "code",
   "execution_count": 79,
   "metadata": {},
   "outputs": [
    {
     "name": "stdout",
     "output_type": "stream",
     "text": [
      "pikachu's moves'\n",
      "thunder\n",
      "surf\n",
      "earthquake\n"
     ]
    }
   ],
   "source": [
    "pikachu.show_moves()"
   ]
  }
 ],
 "metadata": {
  "kernelspec": {
   "display_name": "Python 3 (ipykernel)",
   "language": "python",
   "name": "python3"
  },
  "language_info": {
   "codemirror_mode": {
    "name": "ipython",
    "version": 3
   },
   "file_extension": ".py",
   "mimetype": "text/x-python",
   "name": "python",
   "nbconvert_exporter": "python",
   "pygments_lexer": "ipython3",
   "version": "3.9.13"
  }
 },
 "nbformat": 4,
 "nbformat_minor": 4
}
